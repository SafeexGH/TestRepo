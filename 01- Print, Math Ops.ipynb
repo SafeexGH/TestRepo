{
  "metadata": {
    "kernelspec": {
      "name": "python",
      "display_name": "Python (Pyodide)",
      "language": "python"
    },
    "language_info": {
      "codemirror_mode": {
        "name": "python",
        "version": 3
      },
      "file_extension": ".py",
      "mimetype": "text/x-python",
      "name": "python",
      "nbconvert_exporter": "python",
      "pygments_lexer": "ipython3",
      "version": "3.8"
    }
  },
  "nbformat_minor": 4,
  "nbformat": 4,
  "cells": [
    {
      "cell_type": "markdown",
      "source": "## Exercise 1\nSay \"Hello\" to the world in Python\nWhen learning a new programming language, it is customary to start with a \"hello world\" example. As simple as it is, this one line of code will ensure that you know how to print a string in output and how to execute code within cells in a notebook.",
      "metadata": {}
    },
    {
      "cell_type": "code",
      "source": "# Try your first Python output. Click here and press Shift + Enter to execute the cell\n\n'Hello, Python!'",
      "metadata": {
        "trusted": true
      },
      "outputs": [
        {
          "execution_count": 1,
          "output_type": "execute_result",
          "data": {
            "text/plain": "'Hello, Python!'"
          },
          "metadata": {}
        }
      ],
      "execution_count": 1
    },
    {
      "cell_type": "code",
      "source": "After executing the cell above, you should see that Python prints Hello, Python!. Congratulations on running your first Python code!",
      "metadata": {
        "trusted": true
      },
      "outputs": [],
      "execution_count": null
    },
    {
      "cell_type": "markdown",
      "source": "## Display an Integer",
      "metadata": {}
    },
    {
      "cell_type": "code",
      "source": "# Print an integer\n\n2",
      "metadata": {
        "trusted": true
      },
      "outputs": [
        {
          "execution_count": 2,
          "output_type": "execute_result",
          "data": {
            "text/plain": "2"
          },
          "metadata": {}
        }
      ],
      "execution_count": 2
    },
    {
      "cell_type": "markdown",
      "source": "## Mathematical Operations\nNow, run the following cells and observe the output of the mathematical operations.",
      "metadata": {}
    },
    {
      "cell_type": "code",
      "source": "# Addition operation\n2 + 2",
      "metadata": {
        "trusted": true
      },
      "outputs": [
        {
          "execution_count": 4,
          "output_type": "execute_result",
          "data": {
            "text/plain": "4"
          },
          "metadata": {}
        }
      ],
      "execution_count": 4
    },
    {
      "cell_type": "code",
      "source": "# Multiplication operation\n2.5 * 3.5",
      "metadata": {
        "trusted": true
      },
      "outputs": [
        {
          "execution_count": 3,
          "output_type": "execute_result",
          "data": {
            "text/plain": "8.75"
          },
          "metadata": {}
        }
      ],
      "execution_count": 3
    },
    {
      "cell_type": "code",
      "source": "",
      "metadata": {
        "trusted": true
      },
      "outputs": [],
      "execution_count": null
    }
  ]
}